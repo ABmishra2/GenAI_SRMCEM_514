{
 "cells": [
  {
   "cell_type": "code",
   "execution_count": 1,
   "id": "ed94b9d9-30ce-4b56-baf4-e7206740eba6",
   "metadata": {},
   "outputs": [
    {
     "name": "stdout",
     "output_type": "stream",
     "text": [
      " hello world\n"
     ]
    }
   ],
   "source": [
    "print(\" hello world\")"
   ]
  },
  {
   "cell_type": "markdown",
   "id": "4fcb8a44-8f81-4a14-9027-158680adee59",
   "metadata": {},
   "source": [
    "# genai "
   ]
  },
  {
   "cell_type": "code",
   "execution_count": 4,
   "id": "7ec23a75-d216-4ad5-bf90-d149b131866e",
   "metadata": {},
   "outputs": [
    {
     "name": "stdout",
     "output_type": "stream",
     "text": [
      "0\n",
      "1\n",
      "2\n",
      "3\n",
      "4\n",
      "5\n",
      "6\n",
      "7\n",
      "8\n",
      "9\n"
     ]
    }
   ],
   "source": [
    "for i in range (10):\n",
    "    print (i)"
   ]
  },
  {
   "cell_type": "code",
   "execution_count": 7,
   "id": "24911e87-3c4e-4d75-87ba-4761809951fc",
   "metadata": {},
   "outputs": [
    {
     "name": "stdout",
     "output_type": "stream",
     "text": [
      "\t row=0\n",
      "\t row=1\n",
      "\t row=2\n",
      "\t row=3\n",
      "\t row=4\n"
     ]
    }
   ],
   "source": [
    "for row in range(5):\n",
    "    print(f' {row=}')\n",
    "    \n",
    "        "
   ]
  },
  {
   "cell_type": "code",
   "execution_count": 8,
   "id": "3747f41d-c582-4565-94ab-539b37edbe92",
   "metadata": {},
   "outputs": [
    {
     "name": "stdout",
     "output_type": "stream",
     "text": [
      "row=0\n",
      "\tcol=0\n",
      "\tcol=1\n",
      "\tcol=2\n",
      "\tcol=3\n",
      "\tcol=4\n",
      "row=1\n",
      "\tcol=0\n",
      "\tcol=1\n",
      "\tcol=2\n",
      "\tcol=3\n",
      "row=2\n",
      "\tcol=0\n",
      "\tcol=1\n",
      "\tcol=2\n",
      "row=3\n",
      "\tcol=0\n",
      "\tcol=1\n",
      "row=4\n",
      "\tcol=0\n"
     ]
    }
   ],
   "source": [
    "for row in range(5):\n",
    "    print(f'{row=}')\n",
    "    for col in range (5-row):\n",
    "        print(f'\\t{col=}')\n",
    "    \n",
    "        "
   ]
  },
  {
   "cell_type": "code",
   "execution_count": 9,
   "id": "24164d52-1509-4f1e-a7c6-0d70b07e0f2e",
   "metadata": {},
   "outputs": [
    {
     "name": "stdout",
     "output_type": "stream",
     "text": [
      "row=0\n",
      "0\n",
      "1\n",
      "2\n",
      "3\n",
      "4\n",
      "row=1\n",
      "0\n",
      "1\n",
      "2\n",
      "3\n",
      "row=2\n",
      "0\n",
      "1\n",
      "2\n",
      "row=3\n",
      "0\n",
      "1\n",
      "row=4\n",
      "0\n"
     ]
    }
   ],
   "source": [
    "for row in range(5):\n",
    "    print(f'{row=}')\n",
    "    for col in range (5-row):\n",
    "        #print(f'\\t{col=}')\n",
    "        print(col)\n",
    "    \n",
    "        "
   ]
  },
  {
   "cell_type": "code",
   "execution_count": 11,
   "id": "00eae596-b96c-458b-898c-8576ac1db9c0",
   "metadata": {},
   "outputs": [
    {
     "name": "stdout",
     "output_type": "stream",
     "text": [
      "row=0\n",
      "A\n",
      "B\n",
      "C\n",
      "D\n",
      "E\n",
      "row=1\n",
      "A\n",
      "B\n",
      "C\n",
      "D\n",
      "row=2\n",
      "A\n",
      "B\n",
      "C\n",
      "row=3\n",
      "A\n",
      "B\n",
      "row=4\n",
      "A\n"
     ]
    }
   ],
   "source": [
    "for row in range(5):\n",
    "    print(f'{row=}')\n",
    "    for col in range (5-row):\n",
    "        #print(f'\\t{col=}')\n",
    "        print(chr(col+65))\n",
    "    \n",
    "        "
   ]
  },
  {
   "cell_type": "code",
   "execution_count": 14,
   "id": "501cf7f1-bdb6-4494-af54-7af71d7f0309",
   "metadata": {},
   "outputs": [
    {
     "name": "stdout",
     "output_type": "stream",
     "text": [
      "row=0\n",
      "A\tB\tC\tD\tE\trow=1\n",
      "A\tB\tC\tD\trow=2\n",
      "A\tB\tC\trow=3\n",
      "A\tB\trow=4\n",
      "A\t"
     ]
    }
   ],
   "source": [
    "for row in range(5):\n",
    "    print(f'{row=}')\n",
    "    for col in range (5-row):\n",
    "        #print(f'\\t{col=}')\n",
    "        print(chr(col+65) , end = '\\t')\n",
    "    \n",
    "        "
   ]
  },
  {
   "cell_type": "code",
   "execution_count": 15,
   "id": "30be0d89-75a6-461d-b84a-5d840a9ecfd7",
   "metadata": {},
   "outputs": [
    {
     "name": "stdout",
     "output_type": "stream",
     "text": [
      "A\tB\tC\tD\tE\tA\tB\tC\tD\tA\tB\tC\tA\tB\tA\t"
     ]
    }
   ],
   "source": [
    "for row in range(5):\n",
    "    #print(f'{row=}')\n",
    "    for col in range (5-row):\n",
    "        #print(f'\\t{col=}')\n",
    "        print(chr(col+65) , end = '\\t')\n",
    "    \n",
    "        "
   ]
  },
  {
   "cell_type": "code",
   "execution_count": 16,
   "id": "e12b9085-661b-4180-ba2f-d8656183b989",
   "metadata": {},
   "outputs": [
    {
     "name": "stdout",
     "output_type": "stream",
     "text": [
      "A\tB\tC\tD\tE\t\n",
      "A\tB\tC\tD\t\n",
      "A\tB\tC\t\n",
      "A\tB\t\n",
      "A\t\n"
     ]
    }
   ],
   "source": [
    "for row in range(5):\n",
    "    #print(f'{row=}')\n",
    "    for col in range (5-row):\n",
    "        #print(f'\\t{col=}')\n",
    "        print(chr(col+65) , end = '\\t')\n",
    "    print(\"\")\n",
    "    \n",
    "        "
   ]
  },
  {
   "cell_type": "code",
   "execution_count": 33,
   "id": "436286f4-1552-478b-a2fe-5ed959d14da6",
   "metadata": {},
   "outputs": [
    {
     "name": "stdout",
     "output_type": "stream",
     "text": [
      "A*EDCBA\n",
      "B*EDCBA\n",
      "C*EDCBA\n",
      "D*EDCBA\n",
      "E*EDCBA\n",
      "A***DCBA\n",
      "B***DCBA\n",
      "C***DCBA\n",
      "D***DCBA\n",
      "A*****CBA\n",
      "B*****CBA\n",
      "C*****CBA\n",
      "A*******BA\n",
      "B*******BA\n",
      "A*********A\n"
     ]
    }
   ],
   "source": [
    "for row in range(5):\n",
    "    #print(f'{row=}')\n",
    "    for col in range (5-row):\n",
    "        #print(f'\\t{col=}')\n",
    "        print(chr(col+65) , end = '')\n",
    "        \n",
    "\n",
    "   \n",
    "        for col in range(2*row+1):\n",
    "            print('*',end = '')\n",
    "       \n",
    "\n",
    "\n",
    "        for col in range (5-row):\n",
    "        #print(f'\\t{col=}')\n",
    "            print(chr(65+4-row-col) , end = '')\n",
    "        print(\"\")\n",
    "    \n",
    "        "
   ]
  },
  {
   "cell_type": "code",
   "execution_count": 34,
   "id": "731e23f7-563f-4600-a465-e5972df191a2",
   "metadata": {},
   "outputs": [
    {
     "name": "stdout",
     "output_type": "stream",
     "text": [
      "A*EDCBA\n",
      "C*EDCBA\n",
      "D*EDCBA\n",
      "E*EDCBA\n",
      "A***DCBA\n",
      "C***DCBA\n",
      "D***DCBA\n",
      "A*****CBA\n",
      "C*****CBA\n",
      "A*******BA\n",
      "A*********A\n"
     ]
    }
   ],
   "source": [
    "for row in range(5):\n",
    "    \n",
    "    #print(f'{row=}')\n",
    "    for col in range (5-row):\n",
    "        if col == 1:\n",
    "            continue\n",
    "        #print(f'\\t{col=}')\n",
    "        print(chr(col+65) , end = '')\n",
    "        \n",
    "\n",
    "   \n",
    "        for col in range(2*row+1):\n",
    "            print('*',end = '')\n",
    "       \n",
    "\n",
    "\n",
    "        for col in range (5-row):\n",
    "        #print(f'\\t{col=}')\n",
    "            print(chr(65+4-row-col) , end = '')\n",
    "        print(\"\")\n",
    "    \n",
    "        "
   ]
  },
  {
   "cell_type": "code",
   "execution_count": 19,
   "id": "99a1cebe-fd9f-4847-a126-0b4cfbdf623f",
   "metadata": {},
   "outputs": [
    {
     "name": "stdout",
     "output_type": "stream",
     "text": [
      "Prints the values to a stream, or to sys.stdout by default.\n",
      "\n",
      "  sep\n",
      "    string inserted between values, default a space.\n",
      "  end\n",
      "    string appended after the last value, default a newline.\n",
      "  file\n",
      "    a file-like object (stream); defaults to the current sys.stdout.\n",
      "  flush\n",
      "    whether to forcibly flush the stream.\n"
     ]
    }
   ],
   "source": [
    "print(print.__doc__)"
   ]
  },
  {
   "cell_type": "code",
   "execution_count": 27,
   "id": "f08640d7-4826-461b-b4df-7385639a607a",
   "metadata": {},
   "outputs": [
    {
     "name": "stdout",
     "output_type": "stream",
     "text": [
      "*\t\n",
      "*\t*\t*\t\n",
      "*\t*\t*\t*\t*\t\n",
      "*\t*\t*\t*\t*\t*\t*\t\n",
      "*\t*\t*\t*\t*\t*\t*\t*\t*\t\n"
     ]
    }
   ],
   "source": [
    "for row in range(5):\n",
    "    for col in range(2*row+1):\n",
    "        print('*',end = '\\t')\n",
    "    print()\n",
    "    \n",
    "    "
   ]
  },
  {
   "cell_type": "code",
   "execution_count": 38,
   "id": "8e60f7ca-6808-46c6-bd86-5d42d4ef51a1",
   "metadata": {},
   "outputs": [
    {
     "name": "stdout",
     "output_type": "stream",
     "text": [
      "ABCD*EDCBA\n",
      "ABCD***DCBA\n",
      "ABC*****CBA\n",
      "AB*******BA\n",
      "A*********A\n"
     ]
    }
   ],
   "source": [
    "for row in range(5):\n",
    "    for col in range(5-row):\n",
    "        if col ==4:\n",
    "            continue\n",
    "        print(chr(col+65), end=\"\")\n",
    "    for col in range(2*row+1):\n",
    "        print('*',end='')\n",
    "    for col in range (5-row):\n",
    "        #print(f'\\t{col=}')\n",
    "        print(chr(65+4-row-col) , end = '')\n",
    "    print(\"\")\n",
    "    "
   ]
  },
  {
   "cell_type": "code",
   "execution_count": 8,
   "id": "96d32960-c28f-495a-83ad-8362e41bce27",
   "metadata": {},
   "outputs": [],
   "source": [
    "def hello(name):\n",
    "    return(f'hello  {name}')"
   ]
  },
  {
   "cell_type": "code",
   "execution_count": 9,
   "id": "0b6ccfd2",
   "metadata": {},
   "outputs": [],
   "source": [
    "fname =hello(\"ardhendu\")"
   ]
  },
  {
   "cell_type": "code",
   "execution_count": 10,
   "id": "26ccb3ff",
   "metadata": {},
   "outputs": [
    {
     "data": {
      "text/plain": [
       "'hello  ardhendu'"
      ]
     },
     "execution_count": 10,
     "metadata": {},
     "output_type": "execute_result"
    }
   ],
   "source": [
    "fname"
   ]
  },
  {
   "cell_type": "code",
   "execution_count": 12,
   "id": "f7ae25d9",
   "metadata": {},
   "outputs": [],
   "source": [
    "def gen_fun(n):\n",
    "    for i in range(n):\n",
    "        yield i"
   ]
  },
  {
   "cell_type": "code",
   "execution_count": 13,
   "id": "d4c43cce",
   "metadata": {},
   "outputs": [
    {
     "data": {
      "text/plain": [
       "function"
      ]
     },
     "execution_count": 13,
     "metadata": {},
     "output_type": "execute_result"
    }
   ],
   "source": [
    "type (gen_fun)"
   ]
  },
  {
   "cell_type": "code",
   "execution_count": 14,
   "id": "176f3043",
   "metadata": {},
   "outputs": [
    {
     "data": {
      "text/plain": [
       "<function __main__.gen_fun(n)>"
      ]
     },
     "execution_count": 14,
     "metadata": {},
     "output_type": "execute_result"
    }
   ],
   "source": [
    "gen_fun"
   ]
  },
  {
   "cell_type": "code",
   "execution_count": 15,
   "id": "2fdbb0bc",
   "metadata": {},
   "outputs": [],
   "source": [
    "a = gen_fun(5)"
   ]
  },
  {
   "cell_type": "code",
   "execution_count": 16,
   "id": "530a9e77",
   "metadata": {},
   "outputs": [
    {
     "data": {
      "text/plain": [
       "<generator object gen_fun at 0x000001F8B33B97D0>"
      ]
     },
     "execution_count": 16,
     "metadata": {},
     "output_type": "execute_result"
    }
   ],
   "source": [
    "a"
   ]
  },
  {
   "cell_type": "code",
   "execution_count": 17,
   "id": "ef7859c0",
   "metadata": {},
   "outputs": [
    {
     "data": {
      "text/plain": [
       "0"
      ]
     },
     "execution_count": 17,
     "metadata": {},
     "output_type": "execute_result"
    }
   ],
   "source": [
    "next(a)"
   ]
  },
  {
   "cell_type": "code",
   "execution_count": 18,
   "id": "a324a384",
   "metadata": {},
   "outputs": [
    {
     "data": {
      "text/plain": [
       "1"
      ]
     },
     "execution_count": 18,
     "metadata": {},
     "output_type": "execute_result"
    }
   ],
   "source": [
    "next(a)"
   ]
  },
  {
   "cell_type": "code",
   "execution_count": 19,
   "id": "657fa9b6",
   "metadata": {
    "scrolled": true
   },
   "outputs": [
    {
     "data": {
      "text/plain": [
       "2"
      ]
     },
     "execution_count": 19,
     "metadata": {},
     "output_type": "execute_result"
    }
   ],
   "source": [
    "a.__next__()"
   ]
  },
  {
   "cell_type": "code",
   "execution_count": 20,
   "id": "22a962c1",
   "metadata": {},
   "outputs": [
    {
     "data": {
      "text/plain": [
       "3"
      ]
     },
     "execution_count": 20,
     "metadata": {},
     "output_type": "execute_result"
    }
   ],
   "source": [
    "a.__next__()"
   ]
  },
  {
   "cell_type": "code",
   "execution_count": 23,
   "id": "ad200358",
   "metadata": {},
   "outputs": [],
   "source": [
    "def gen_fun(n):\n",
    "    for i in range(n):\n",
    "        yield i\n",
    "        yield i\n",
    "    yield i\n",
    "    "
   ]
  },
  {
   "cell_type": "code",
   "execution_count": 24,
   "id": "7b77dcca",
   "metadata": {},
   "outputs": [],
   "source": [
    "b = gen_fun(5)"
   ]
  },
  {
   "cell_type": "code",
   "execution_count": 25,
   "id": "1100eefe",
   "metadata": {},
   "outputs": [
    {
     "data": {
      "text/plain": [
       "<generator object gen_fun at 0x000001F8B3687440>"
      ]
     },
     "execution_count": 25,
     "metadata": {},
     "output_type": "execute_result"
    }
   ],
   "source": [
    "b"
   ]
  },
  {
   "cell_type": "code",
   "execution_count": 26,
   "id": "a2469ebf",
   "metadata": {},
   "outputs": [
    {
     "data": {
      "text/plain": [
       "0"
      ]
     },
     "execution_count": 26,
     "metadata": {},
     "output_type": "execute_result"
    }
   ],
   "source": [
    "next(b)"
   ]
  },
  {
   "cell_type": "code",
   "execution_count": 27,
   "id": "d0fc0bd7",
   "metadata": {},
   "outputs": [
    {
     "data": {
      "text/plain": [
       "0"
      ]
     },
     "execution_count": 27,
     "metadata": {},
     "output_type": "execute_result"
    }
   ],
   "source": [
    "next(b)\n"
   ]
  },
  {
   "cell_type": "code",
   "execution_count": 28,
   "id": "3145bf62",
   "metadata": {},
   "outputs": [
    {
     "data": {
      "text/plain": [
       "1"
      ]
     },
     "execution_count": 28,
     "metadata": {},
     "output_type": "execute_result"
    }
   ],
   "source": [
    "next(b)"
   ]
  },
  {
   "cell_type": "code",
   "execution_count": 29,
   "id": "46715a2c",
   "metadata": {},
   "outputs": [
    {
     "data": {
      "text/plain": [
       "1"
      ]
     },
     "execution_count": 29,
     "metadata": {},
     "output_type": "execute_result"
    }
   ],
   "source": [
    "next(b)"
   ]
  },
  {
   "cell_type": "code",
   "execution_count": 30,
   "id": "792fc474",
   "metadata": {},
   "outputs": [
    {
     "data": {
      "text/plain": [
       "2"
      ]
     },
     "execution_count": 30,
     "metadata": {},
     "output_type": "execute_result"
    }
   ],
   "source": [
    "next(b)"
   ]
  },
  {
   "cell_type": "markdown",
   "id": "73f999f1-58b9-4f8e-b80f-8f49794ae334",
   "metadata": {},
   "source": [
    "#machine learning with python "
   ]
  },
  {
   "cell_type": "code",
   "execution_count": null,
   "id": "9084f931-f36d-4918-ae38-a5b16dd174b9",
   "metadata": {},
   "outputs": [],
   "source": []
  }
 ],
 "metadata": {
  "kernelspec": {
   "display_name": "genai",
   "language": "python",
   "name": "genai"
  },
  "language_info": {
   "codemirror_mode": {
    "name": "ipython",
    "version": 3
   },
   "file_extension": ".py",
   "mimetype": "text/x-python",
   "name": "python",
   "nbconvert_exporter": "python",
   "pygments_lexer": "ipython3",
   "version": "3.13.5"
  },
  "widgets": {
   "application/vnd.jupyter.widget-state+json": {
    "state": {},
    "version_major": 2,
    "version_minor": 0
   }
  }
 },
 "nbformat": 4,
 "nbformat_minor": 5
}
